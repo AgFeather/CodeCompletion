{
 "cells": [
  {
   "cell_type": "markdown",
   "metadata": {},
   "source": [
    "## 对数据集的数据分布情况进行统计"
   ]
  },
  {
   "cell_type": "code",
   "execution_count": 3,
   "metadata": {},
   "outputs": [],
   "source": [
    "import pickle\n",
    "import matplotlib.pyplot as plt\n",
    "from collections import Counter\n",
    "%matplotlib inline"
   ]
  },
  {
   "cell_type": "code",
   "execution_count": 10,
   "metadata": {},
   "outputs": [],
   "source": [
    "num_terminal_counter = pickle.load(open('terminal_num_counter.pkl', 'rb'))\n",
    "total_tt_token = len(num_terminal_counter)\n",
    "out_of_bag = num_terminal_counter.most_common()[30000:]\n",
    "\n",
    "num_of_out_of_bag_token = sum(out_of_bag.values())\n",
    "num_of_total_token = sum(num_terminal_counter.values())"
   ]
  },
  {
   "cell_type": "code",
   "execution_count": 12,
   "metadata": {},
   "outputs": [
    {
     "name": "stdout",
     "output_type": "stream",
     "text": [
      "一共有 2579363 种 terminal token in dataset\n",
      "排除 30000 个most frequent token，一共有 2549363 种token out of bag\n"
     ]
    }
   ],
   "source": [
    "print('一共有 {} 种 terminal token in dataset'.format(total_tt_token))\n",
    "print('排除 {} 个most frequent token，一共有 {} 种token out of bag'.format(30000, len(out_of_bag)))"
   ]
  },
  {
   "cell_type": "code",
   "execution_count": 25,
   "metadata": {},
   "outputs": [
    {
     "name": "stdout",
     "output_type": "stream",
     "text": [
      "整个数据集一共有 82839666 个terminal token\n",
      "一共有 14155397 个 token，是out of bag的\n",
      "out of bag的token占总体的比例: 0.1709\n"
     ]
    }
   ],
   "source": [
    "print('整个数据集一共有 {} 个terminal token'.format(num_of_total_token))\n",
    "print('一共有 {} 个 token，是out of bag的'.format(num_of_out_of_bag_token))\n",
    "print('out of bag的token占总体的比例: {:.4f}'.format(num_of_out_of_bag_token / num_of_total_token))"
   ]
  },
  {
   "cell_type": "code",
   "execution_count": 23,
   "metadata": {},
   "outputs": [
    {
     "name": "stdout",
     "output_type": "stream",
     "text": [
      "82839666\n"
     ]
    }
   ],
   "source": [
    "\n"
   ]
  }
 ],
 "metadata": {
  "kernelspec": {
   "display_name": "Python 3",
   "language": "python",
   "name": "python3"
  },
  "language_info": {
   "codemirror_mode": {
    "name": "ipython",
    "version": 3
   },
   "file_extension": ".py",
   "mimetype": "text/x-python",
   "name": "python",
   "nbconvert_exporter": "python",
   "pygments_lexer": "ipython3",
   "version": "3.6.5"
  }
 },
 "nbformat": 4,
 "nbformat_minor": 2
}
